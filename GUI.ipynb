{
 "cells": [
  {
   "cell_type": "code",
   "execution_count": 4,
   "metadata": {},
   "outputs": [
    {
     "name": "stdout",
     "output_type": "stream",
     "text": [
      "Dates: ['2023-06-04', '2023-06-11', '2023-06-18', '2023-06-25', '2023-07-02']\n"
     ]
    }
   ],
   "source": [
    "from tkinter import Tk, Label, Entry, Button\n",
    "from datetime import datetime\n",
    "\n",
    "def get_dates():\n",
    "    dates = []\n",
    "    for entry in date_entries:\n",
    "        date_string = entry.get()\n",
    "        try:\n",
    "            date = datetime.strptime(date_string, \"%d/%m/%Y\")\n",
    "            translated_date = date.strftime(\"%Y-%m-%d\")\n",
    "            dates.append(translated_date)\n",
    "        except ValueError:\n",
    "            print(\"Invalid date format. Please use the DD/MM/YYYY format.\")\n",
    "            return\n",
    "    print(\"Dates:\", dates), dates\n",
    "    # You can perform further analysis or store the dates as needed\n",
    "\n",
    "# Create the main window\n",
    "window = Tk()\n",
    "window.title(\"Input Treatment Session Dates\")\n",
    "\n",
    "# Create date input labels and entry fields\n",
    "date_labels = []\n",
    "date_entries = []\n",
    "for i in range(1, 6):\n",
    "    label = Label(window, text=f\"Treatment session {i} date (DD/MM/YYYY):\")\n",
    "    label.pack()\n",
    "    date_labels.append(label)\n",
    "\n",
    "    entry = Entry(window)\n",
    "    entry.pack()\n",
    "    date_entries.append(entry)\n",
    "\n",
    "# Create a button to retrieve the dates\n",
    "button = Button(window, text=\"Analyze\", command=get_dates)\n",
    "button.pack()\n",
    "\n",
    "# Start the GUI event loop\n",
    "window.mainloop()"
   ]
  },
  {
   "cell_type": "code",
   "execution_count": 7,
   "metadata": {},
   "outputs": [
    {
     "name": "stdout",
     "output_type": "stream",
     "text": [
      "Dates: ['2023-06-04', '2023-06-11', '2023-06-18', '2023-06-25', '2023-07-02']\n",
      "Dates are not in the correct order.\n",
      "Dates: []\n"
     ]
    }
   ],
   "source": [
    "from tkinter import Tk, Label, Entry, Button\n",
    "from datetime import datetime\n",
    "\n",
    "def get_dates():\n",
    "    dates = []\n",
    "    for entry in date_entries:\n",
    "        date_string = entry.get()\n",
    "        try:\n",
    "            date = datetime.strptime(date_string, \"%d/%m/%Y\")\n",
    "            translated_date = date.strftime(\"%Y-%m-%d\")\n",
    "            dates.append(translated_date)\n",
    "        except ValueError:\n",
    "            print(\"Invalid date format. Please use the DD/MM/YYYY format.\")\n",
    "            return []\n",
    "\n",
    "    # Verify the order of dates\n",
    "    for i in range(len(dates) - 1):\n",
    "        if dates[i] >= dates[i + 1]:\n",
    "            print(\"Dates are not in the correct order.\")\n",
    "            return []\n",
    "\n",
    "    return dates\n",
    "\n",
    "# Create the main window\n",
    "window = Tk()\n",
    "window.title(\"Date Input\")\n",
    "window.geometry(\"400x300\")  # Set the size of the window\n",
    "\n",
    "date_labels = []\n",
    "date_entries = []\n",
    "for i in range(1, 6):\n",
    "    label = Label(window, text=f\"Treatment session {i} date (DD/MM/YYYY):\")\n",
    "    label.pack()\n",
    "    date_labels.append(label)\n",
    "\n",
    "    entry = Entry(window)\n",
    "    entry.pack()\n",
    "    date_entries.append(entry)\n",
    "\n",
    "button = Button(window, text=\"Get Dates\", command=lambda: print(\"Dates:\", get_dates()))\n",
    "button.pack()\n",
    "\n",
    "# Start the GUI event loop\n",
    "window.mainloop()\n"
   ]
  },
  {
   "cell_type": "code",
   "execution_count": null,
   "metadata": {},
   "outputs": [],
   "source": []
  }
 ],
 "metadata": {
  "kernelspec": {
   "display_name": "Python 3",
   "language": "python",
   "name": "python3"
  },
  "language_info": {
   "codemirror_mode": {
    "name": "ipython",
    "version": 3
   },
   "file_extension": ".py",
   "mimetype": "text/x-python",
   "name": "python",
   "nbconvert_exporter": "python",
   "pygments_lexer": "ipython3",
   "version": "3.10.5"
  },
  "orig_nbformat": 4
 },
 "nbformat": 4,
 "nbformat_minor": 2
}
